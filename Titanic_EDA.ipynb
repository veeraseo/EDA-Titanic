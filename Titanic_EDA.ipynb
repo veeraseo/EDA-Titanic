{
  "nbformat": 4,
  "nbformat_minor": 0,
  "metadata": {
    "kernelspec": {
      "display_name": "Python 3",
      "language": "python",
      "name": "python3"
    },
    "language_info": {
      "codemirror_mode": {
        "name": "ipython",
        "version": 3
      },
      "file_extension": ".py",
      "mimetype": "text/x-python",
      "name": "python",
      "nbconvert_exporter": "python",
      "pygments_lexer": "ipython3",
      "version": "3.7.6"
    },
    "colab": {
      "name": "Titanic EDA.ipynb",
      "provenance": [],
      "collapsed_sections": [],
      "include_colab_link": true
    }
  },
  "cells": [
    {
      "cell_type": "markdown",
      "metadata": {
        "id": "view-in-github",
        "colab_type": "text"
      },
      "source": [
        "<a href=\"https://colab.research.google.com/github/veeraseo/EDA-Titanic/blob/master/Titanic_EDA.ipynb\" target=\"_parent\"><img src=\"https://colab.research.google.com/assets/colab-badge.svg\" alt=\"Open In Colab\"/></a>"
      ]
    },
    {
      "cell_type": "markdown",
      "metadata": {
        "id": "cUBsTHBQX0X2",
        "colab_type": "text"
      },
      "source": [
        "##********************(TITANIC EDA)*****************************\n"
      ]
    },
    {
      "cell_type": "markdown",
      "metadata": {
        "id": "jE4DnxJo2m7a",
        "colab_type": "text"
      },
      "source": [
        "# Import the necessary Libraries and Packages:"
      ]
    },
    {
      "cell_type": "code",
      "metadata": {
        "id": "s6Ul78wF2m7c",
        "colab_type": "code",
        "colab": {}
      },
      "source": [
        "#import pandas as pd\n",
        "#import matplotlib.pyplot as plt\n",
        "#import numpy as np\n",
        "#import seaborn as sns\n",
        "#import warnings\n",
        "#warnings.filterwarnings('ignore')\n",
        "#%matplotlib inline"
      ],
      "execution_count": null,
      "outputs": []
    },
    {
      "cell_type": "code",
      "metadata": {
        "id": "1OwvfcMu3zrD",
        "colab_type": "code",
        "colab": {}
      },
      "source": [
        "import pandas as pd\n",
        "import matplotlib.pyplot as plt\n",
        "import numpy as np\n",
        "import seaborn as sns\n",
        "import warnings\n",
        "import plotly as px\n",
        "#warnings.filterwarnings('ignore')\n",
        "%matplotlib inline"
      ],
      "execution_count": null,
      "outputs": []
    },
    {
      "cell_type": "markdown",
      "metadata": {
        "id": "kkg7Sio02m7v",
        "colab_type": "text"
      },
      "source": [
        "# Load the Dataset:"
      ]
    },
    {
      "cell_type": "code",
      "metadata": {
        "id": "rFk_X-XQ2m7x",
        "colab_type": "code",
        "colab": {}
      },
      "source": [
        "#train=pd.read_csv('Downloads/train.csv')\n",
        "#train.head()"
      ],
      "execution_count": null,
      "outputs": []
    },
    {
      "cell_type": "code",
      "metadata": {
        "id": "Y_wUdg4T4Az8",
        "colab_type": "code",
        "colab": {
          "base_uri": "https://localhost:8080/",
          "height": 341
        },
        "outputId": "9d3b21d4-5ea8-4dd4-9298-4a8bc568c282"
      },
      "source": [
        "train = pd.read_csv('/content/Titanic - train.csv')\n",
        "train.head()"
      ],
      "execution_count": null,
      "outputs": [
        {
          "output_type": "execute_result",
          "data": {
            "text/html": [
              "<div>\n",
              "<style scoped>\n",
              "    .dataframe tbody tr th:only-of-type {\n",
              "        vertical-align: middle;\n",
              "    }\n",
              "\n",
              "    .dataframe tbody tr th {\n",
              "        vertical-align: top;\n",
              "    }\n",
              "\n",
              "    .dataframe thead th {\n",
              "        text-align: right;\n",
              "    }\n",
              "</style>\n",
              "<table border=\"1\" class=\"dataframe\">\n",
              "  <thead>\n",
              "    <tr style=\"text-align: right;\">\n",
              "      <th></th>\n",
              "      <th>PassengerId</th>\n",
              "      <th>Survived</th>\n",
              "      <th>Pclass</th>\n",
              "      <th>Name</th>\n",
              "      <th>Sex</th>\n",
              "      <th>Age</th>\n",
              "      <th>SibSp</th>\n",
              "      <th>Parch</th>\n",
              "      <th>Ticket</th>\n",
              "      <th>Fare</th>\n",
              "      <th>Cabin</th>\n",
              "      <th>Embarked</th>\n",
              "    </tr>\n",
              "  </thead>\n",
              "  <tbody>\n",
              "    <tr>\n",
              "      <th>0</th>\n",
              "      <td>1</td>\n",
              "      <td>0</td>\n",
              "      <td>3</td>\n",
              "      <td>Braund, Mr. Owen Harris</td>\n",
              "      <td>male</td>\n",
              "      <td>22.0</td>\n",
              "      <td>1</td>\n",
              "      <td>0</td>\n",
              "      <td>A/5 21171</td>\n",
              "      <td>7.2500</td>\n",
              "      <td>NaN</td>\n",
              "      <td>S</td>\n",
              "    </tr>\n",
              "    <tr>\n",
              "      <th>1</th>\n",
              "      <td>2</td>\n",
              "      <td>1</td>\n",
              "      <td>1</td>\n",
              "      <td>Cumings, Mrs. John Bradley (Florence Briggs Th...</td>\n",
              "      <td>female</td>\n",
              "      <td>38.0</td>\n",
              "      <td>1</td>\n",
              "      <td>0</td>\n",
              "      <td>PC 17599</td>\n",
              "      <td>71.2833</td>\n",
              "      <td>C85</td>\n",
              "      <td>C</td>\n",
              "    </tr>\n",
              "    <tr>\n",
              "      <th>2</th>\n",
              "      <td>3</td>\n",
              "      <td>1</td>\n",
              "      <td>3</td>\n",
              "      <td>Heikkinen, Miss. Laina</td>\n",
              "      <td>female</td>\n",
              "      <td>26.0</td>\n",
              "      <td>0</td>\n",
              "      <td>0</td>\n",
              "      <td>STON/O2. 3101282</td>\n",
              "      <td>7.9250</td>\n",
              "      <td>NaN</td>\n",
              "      <td>S</td>\n",
              "    </tr>\n",
              "    <tr>\n",
              "      <th>3</th>\n",
              "      <td>4</td>\n",
              "      <td>1</td>\n",
              "      <td>1</td>\n",
              "      <td>Futrelle, Mrs. Jacques Heath (Lily May Peel)</td>\n",
              "      <td>female</td>\n",
              "      <td>35.0</td>\n",
              "      <td>1</td>\n",
              "      <td>0</td>\n",
              "      <td>113803</td>\n",
              "      <td>53.1000</td>\n",
              "      <td>C123</td>\n",
              "      <td>S</td>\n",
              "    </tr>\n",
              "    <tr>\n",
              "      <th>4</th>\n",
              "      <td>5</td>\n",
              "      <td>0</td>\n",
              "      <td>3</td>\n",
              "      <td>Allen, Mr. William Henry</td>\n",
              "      <td>male</td>\n",
              "      <td>35.0</td>\n",
              "      <td>0</td>\n",
              "      <td>0</td>\n",
              "      <td>373450</td>\n",
              "      <td>8.0500</td>\n",
              "      <td>NaN</td>\n",
              "      <td>S</td>\n",
              "    </tr>\n",
              "  </tbody>\n",
              "</table>\n",
              "</div>"
            ],
            "text/plain": [
              "   PassengerId  Survived  Pclass  ...     Fare Cabin  Embarked\n",
              "0            1         0       3  ...   7.2500   NaN         S\n",
              "1            2         1       1  ...  71.2833   C85         C\n",
              "2            3         1       3  ...   7.9250   NaN         S\n",
              "3            4         1       1  ...  53.1000  C123         S\n",
              "4            5         0       3  ...   8.0500   NaN         S\n",
              "\n",
              "[5 rows x 12 columns]"
            ]
          },
          "metadata": {
            "tags": []
          },
          "execution_count": 45
        }
      ]
    },
    {
      "cell_type": "code",
      "metadata": {
        "id": "-VDr5rYy-TTP",
        "colab_type": "code",
        "colab": {
          "base_uri": "https://localhost:8080/",
          "height": 347
        },
        "outputId": "8a8dbc42-9065-4fe1-e826-dfe82f3bc6c6"
      },
      "source": [
        "train.info()"
      ],
      "execution_count": null,
      "outputs": [
        {
          "output_type": "stream",
          "text": [
            "<class 'pandas.core.frame.DataFrame'>\n",
            "RangeIndex: 891 entries, 0 to 890\n",
            "Data columns (total 12 columns):\n",
            " #   Column       Non-Null Count  Dtype  \n",
            "---  ------       --------------  -----  \n",
            " 0   PassengerId  891 non-null    int64  \n",
            " 1   Survived     891 non-null    int64  \n",
            " 2   Pclass       891 non-null    int64  \n",
            " 3   Name         891 non-null    object \n",
            " 4   Sex          891 non-null    object \n",
            " 5   Age          714 non-null    float64\n",
            " 6   SibSp        891 non-null    int64  \n",
            " 7   Parch        891 non-null    int64  \n",
            " 8   Ticket       891 non-null    object \n",
            " 9   Fare         891 non-null    float64\n",
            " 10  Cabin        204 non-null    object \n",
            " 11  Embarked     889 non-null    object \n",
            "dtypes: float64(2), int64(5), object(5)\n",
            "memory usage: 83.7+ KB\n"
          ],
          "name": "stdout"
        }
      ]
    },
    {
      "cell_type": "code",
      "metadata": {
        "id": "97i_VtgG-YtU",
        "colab_type": "code",
        "colab": {
          "base_uri": "https://localhost:8080/",
          "height": 294
        },
        "outputId": "9b3d774a-09ec-4483-b729-5752ba6edab9"
      },
      "source": [
        "train.describe()"
      ],
      "execution_count": null,
      "outputs": [
        {
          "output_type": "execute_result",
          "data": {
            "text/html": [
              "<div>\n",
              "<style scoped>\n",
              "    .dataframe tbody tr th:only-of-type {\n",
              "        vertical-align: middle;\n",
              "    }\n",
              "\n",
              "    .dataframe tbody tr th {\n",
              "        vertical-align: top;\n",
              "    }\n",
              "\n",
              "    .dataframe thead th {\n",
              "        text-align: right;\n",
              "    }\n",
              "</style>\n",
              "<table border=\"1\" class=\"dataframe\">\n",
              "  <thead>\n",
              "    <tr style=\"text-align: right;\">\n",
              "      <th></th>\n",
              "      <th>PassengerId</th>\n",
              "      <th>Survived</th>\n",
              "      <th>Pclass</th>\n",
              "      <th>Age</th>\n",
              "      <th>SibSp</th>\n",
              "      <th>Parch</th>\n",
              "      <th>Fare</th>\n",
              "    </tr>\n",
              "  </thead>\n",
              "  <tbody>\n",
              "    <tr>\n",
              "      <th>count</th>\n",
              "      <td>891.000000</td>\n",
              "      <td>891.000000</td>\n",
              "      <td>891.000000</td>\n",
              "      <td>714.000000</td>\n",
              "      <td>891.000000</td>\n",
              "      <td>891.000000</td>\n",
              "      <td>891.000000</td>\n",
              "    </tr>\n",
              "    <tr>\n",
              "      <th>mean</th>\n",
              "      <td>446.000000</td>\n",
              "      <td>0.383838</td>\n",
              "      <td>2.308642</td>\n",
              "      <td>29.699118</td>\n",
              "      <td>0.523008</td>\n",
              "      <td>0.381594</td>\n",
              "      <td>32.204208</td>\n",
              "    </tr>\n",
              "    <tr>\n",
              "      <th>std</th>\n",
              "      <td>257.353842</td>\n",
              "      <td>0.486592</td>\n",
              "      <td>0.836071</td>\n",
              "      <td>14.526497</td>\n",
              "      <td>1.102743</td>\n",
              "      <td>0.806057</td>\n",
              "      <td>49.693429</td>\n",
              "    </tr>\n",
              "    <tr>\n",
              "      <th>min</th>\n",
              "      <td>1.000000</td>\n",
              "      <td>0.000000</td>\n",
              "      <td>1.000000</td>\n",
              "      <td>0.420000</td>\n",
              "      <td>0.000000</td>\n",
              "      <td>0.000000</td>\n",
              "      <td>0.000000</td>\n",
              "    </tr>\n",
              "    <tr>\n",
              "      <th>25%</th>\n",
              "      <td>223.500000</td>\n",
              "      <td>0.000000</td>\n",
              "      <td>2.000000</td>\n",
              "      <td>20.125000</td>\n",
              "      <td>0.000000</td>\n",
              "      <td>0.000000</td>\n",
              "      <td>7.910400</td>\n",
              "    </tr>\n",
              "    <tr>\n",
              "      <th>50%</th>\n",
              "      <td>446.000000</td>\n",
              "      <td>0.000000</td>\n",
              "      <td>3.000000</td>\n",
              "      <td>28.000000</td>\n",
              "      <td>0.000000</td>\n",
              "      <td>0.000000</td>\n",
              "      <td>14.454200</td>\n",
              "    </tr>\n",
              "    <tr>\n",
              "      <th>75%</th>\n",
              "      <td>668.500000</td>\n",
              "      <td>1.000000</td>\n",
              "      <td>3.000000</td>\n",
              "      <td>38.000000</td>\n",
              "      <td>1.000000</td>\n",
              "      <td>0.000000</td>\n",
              "      <td>31.000000</td>\n",
              "    </tr>\n",
              "    <tr>\n",
              "      <th>max</th>\n",
              "      <td>891.000000</td>\n",
              "      <td>1.000000</td>\n",
              "      <td>3.000000</td>\n",
              "      <td>80.000000</td>\n",
              "      <td>8.000000</td>\n",
              "      <td>6.000000</td>\n",
              "      <td>512.329200</td>\n",
              "    </tr>\n",
              "  </tbody>\n",
              "</table>\n",
              "</div>"
            ],
            "text/plain": [
              "       PassengerId    Survived      Pclass  ...       SibSp       Parch        Fare\n",
              "count   891.000000  891.000000  891.000000  ...  891.000000  891.000000  891.000000\n",
              "mean    446.000000    0.383838    2.308642  ...    0.523008    0.381594   32.204208\n",
              "std     257.353842    0.486592    0.836071  ...    1.102743    0.806057   49.693429\n",
              "min       1.000000    0.000000    1.000000  ...    0.000000    0.000000    0.000000\n",
              "25%     223.500000    0.000000    2.000000  ...    0.000000    0.000000    7.910400\n",
              "50%     446.000000    0.000000    3.000000  ...    0.000000    0.000000   14.454200\n",
              "75%     668.500000    1.000000    3.000000  ...    1.000000    0.000000   31.000000\n",
              "max     891.000000    1.000000    3.000000  ...    8.000000    6.000000  512.329200\n",
              "\n",
              "[8 rows x 7 columns]"
            ]
          },
          "metadata": {
            "tags": []
          },
          "execution_count": 47
        }
      ]
    },
    {
      "cell_type": "markdown",
      "metadata": {
        "id": "ij8nlUW-2m73",
        "colab_type": "text"
      },
      "source": [
        "# Univariate EDA:"
      ]
    },
    {
      "cell_type": "code",
      "metadata": {
        "id": "1nq8Z8v1Cg64",
        "colab_type": "code",
        "colab": {}
      },
      "source": [
        ""
      ],
      "execution_count": null,
      "outputs": []
    },
    {
      "cell_type": "markdown",
      "metadata": {
        "id": "5g1L8s5x2m75",
        "colab_type": "text"
      },
      "source": [
        "## What is the Count of Survived vs Not Survived?"
      ]
    },
    {
      "cell_type": "code",
      "metadata": {
        "id": "fL-qQcp02m75",
        "colab_type": "code",
        "colab": {
          "base_uri": "https://localhost:8080/",
          "height": 87
        },
        "outputId": "0343963a-6a30-47e9-d11f-6b6f41b87d96"
      },
      "source": [
        "#train.query('Survived==1').describe()\n",
        "train.groupby(['Survived']).size()\n",
        "\n"
      ],
      "execution_count": null,
      "outputs": [
        {
          "output_type": "execute_result",
          "data": {
            "text/plain": [
              "Survived\n",
              "0    549\n",
              "1    342\n",
              "dtype: int64"
            ]
          },
          "metadata": {
            "tags": []
          },
          "execution_count": 48
        }
      ]
    },
    {
      "cell_type": "code",
      "metadata": {
        "id": "J5E1TvzGOr5C",
        "colab_type": "code",
        "colab": {
          "base_uri": "https://localhost:8080/",
          "height": 347
        },
        "outputId": "f5b0481d-800c-4c6c-f7e3-17ce5aa34702"
      },
      "source": [
        "#train.insert(0,'Sur_or_not','')\n",
        "\n",
        "train.info()\n"
      ],
      "execution_count": null,
      "outputs": [
        {
          "output_type": "stream",
          "text": [
            "<class 'pandas.core.frame.DataFrame'>\n",
            "RangeIndex: 891 entries, 0 to 890\n",
            "Data columns (total 12 columns):\n",
            " #   Column       Non-Null Count  Dtype  \n",
            "---  ------       --------------  -----  \n",
            " 0   PassengerId  891 non-null    int64  \n",
            " 1   Survived     891 non-null    int64  \n",
            " 2   Pclass       891 non-null    int64  \n",
            " 3   Name         891 non-null    object \n",
            " 4   Sex          891 non-null    object \n",
            " 5   Age          714 non-null    float64\n",
            " 6   SibSp        891 non-null    int64  \n",
            " 7   Parch        891 non-null    int64  \n",
            " 8   Ticket       891 non-null    object \n",
            " 9   Fare         891 non-null    float64\n",
            " 10  Cabin        204 non-null    object \n",
            " 11  Embarked     889 non-null    object \n",
            "dtypes: float64(2), int64(5), object(5)\n",
            "memory usage: 83.7+ KB\n"
          ],
          "name": "stdout"
        }
      ]
    },
    {
      "cell_type": "code",
      "metadata": {
        "id": "OSEi0iROEZjd",
        "colab_type": "code",
        "colab": {
          "base_uri": "https://localhost:8080/",
          "height": 87
        },
        "outputId": "3039ebf7-f864-4c22-f474-4019295d01b3"
      },
      "source": [
        "Survived = train.groupby(\"Survived\").size()\n",
        "Survived"
      ],
      "execution_count": null,
      "outputs": [
        {
          "output_type": "execute_result",
          "data": {
            "text/plain": [
              "Survived\n",
              "0    549\n",
              "1    342\n",
              "dtype: int64"
            ]
          },
          "metadata": {
            "tags": []
          },
          "execution_count": 50
        }
      ]
    },
    {
      "cell_type": "code",
      "metadata": {
        "id": "1xVnOhQEhJW6",
        "colab_type": "code",
        "colab": {
          "base_uri": "https://localhost:8080/",
          "height": 87
        },
        "outputId": "7932ea88-352d-49f0-e7e0-2fc478759320"
      },
      "source": [
        "train['Sur_or_not'] = train['Survived'].apply(lambda x: 'Survived' if x == 1 else 'Not Survived')\n",
        "train.groupby(['Sur_or_not']).size()\n"
      ],
      "execution_count": null,
      "outputs": [
        {
          "output_type": "execute_result",
          "data": {
            "text/plain": [
              "Sur_or_not\n",
              "Not Survived    549\n",
              "Survived        342\n",
              "dtype: int64"
            ]
          },
          "metadata": {
            "tags": []
          },
          "execution_count": 51
        }
      ]
    },
    {
      "cell_type": "code",
      "metadata": {
        "id": "9ezP6ncUl2rf",
        "colab_type": "code",
        "colab": {
          "base_uri": "https://localhost:8080/",
          "height": 87
        },
        "outputId": "eda63c6f-306f-49a9-b1ec-4097b2fa8991"
      },
      "source": [
        "train.groupby(['Sur_or_not']).size().sort_values()"
      ],
      "execution_count": null,
      "outputs": [
        {
          "output_type": "execute_result",
          "data": {
            "text/plain": [
              "Sur_or_not\n",
              "Survived        342\n",
              "Not Survived    549\n",
              "dtype: int64"
            ]
          },
          "metadata": {
            "tags": []
          },
          "execution_count": 52
        }
      ]
    },
    {
      "cell_type": "code",
      "metadata": {
        "id": "05HCxZa-l8xa",
        "colab_type": "code",
        "colab": {
          "base_uri": "https://localhost:8080/",
          "height": 87
        },
        "outputId": "378205e6-e708-4a3d-8ed7-8beb68495978"
      },
      "source": [
        "train.groupby(['Sur_or_not']).size().sort_values(ascending = False)"
      ],
      "execution_count": null,
      "outputs": [
        {
          "output_type": "execute_result",
          "data": {
            "text/plain": [
              "Sur_or_not\n",
              "Not Survived    549\n",
              "Survived        342\n",
              "dtype: int64"
            ]
          },
          "metadata": {
            "tags": []
          },
          "execution_count": 53
        }
      ]
    },
    {
      "cell_type": "markdown",
      "metadata": {
        "id": "_TMx2S5E2m79",
        "colab_type": "text"
      },
      "source": [
        "## Find out the Numerical Columns Basic Statistics:"
      ]
    },
    {
      "cell_type": "code",
      "metadata": {
        "id": "reDwSh4J2m7-",
        "colab_type": "code",
        "colab": {
          "base_uri": "https://localhost:8080/",
          "height": 263
        },
        "outputId": "15acf179-c243-4666-c4d9-c9fc1ad94f72"
      },
      "source": [
        "train.describe().T"
      ],
      "execution_count": null,
      "outputs": [
        {
          "output_type": "execute_result",
          "data": {
            "text/html": [
              "<div>\n",
              "<style scoped>\n",
              "    .dataframe tbody tr th:only-of-type {\n",
              "        vertical-align: middle;\n",
              "    }\n",
              "\n",
              "    .dataframe tbody tr th {\n",
              "        vertical-align: top;\n",
              "    }\n",
              "\n",
              "    .dataframe thead th {\n",
              "        text-align: right;\n",
              "    }\n",
              "</style>\n",
              "<table border=\"1\" class=\"dataframe\">\n",
              "  <thead>\n",
              "    <tr style=\"text-align: right;\">\n",
              "      <th></th>\n",
              "      <th>count</th>\n",
              "      <th>mean</th>\n",
              "      <th>std</th>\n",
              "      <th>min</th>\n",
              "      <th>25%</th>\n",
              "      <th>50%</th>\n",
              "      <th>75%</th>\n",
              "      <th>max</th>\n",
              "    </tr>\n",
              "  </thead>\n",
              "  <tbody>\n",
              "    <tr>\n",
              "      <th>PassengerId</th>\n",
              "      <td>891.0</td>\n",
              "      <td>446.000000</td>\n",
              "      <td>257.353842</td>\n",
              "      <td>1.00</td>\n",
              "      <td>223.5000</td>\n",
              "      <td>446.0000</td>\n",
              "      <td>668.5</td>\n",
              "      <td>891.0000</td>\n",
              "    </tr>\n",
              "    <tr>\n",
              "      <th>Survived</th>\n",
              "      <td>891.0</td>\n",
              "      <td>0.383838</td>\n",
              "      <td>0.486592</td>\n",
              "      <td>0.00</td>\n",
              "      <td>0.0000</td>\n",
              "      <td>0.0000</td>\n",
              "      <td>1.0</td>\n",
              "      <td>1.0000</td>\n",
              "    </tr>\n",
              "    <tr>\n",
              "      <th>Pclass</th>\n",
              "      <td>891.0</td>\n",
              "      <td>2.308642</td>\n",
              "      <td>0.836071</td>\n",
              "      <td>1.00</td>\n",
              "      <td>2.0000</td>\n",
              "      <td>3.0000</td>\n",
              "      <td>3.0</td>\n",
              "      <td>3.0000</td>\n",
              "    </tr>\n",
              "    <tr>\n",
              "      <th>Age</th>\n",
              "      <td>714.0</td>\n",
              "      <td>29.699118</td>\n",
              "      <td>14.526497</td>\n",
              "      <td>0.42</td>\n",
              "      <td>20.1250</td>\n",
              "      <td>28.0000</td>\n",
              "      <td>38.0</td>\n",
              "      <td>80.0000</td>\n",
              "    </tr>\n",
              "    <tr>\n",
              "      <th>SibSp</th>\n",
              "      <td>891.0</td>\n",
              "      <td>0.523008</td>\n",
              "      <td>1.102743</td>\n",
              "      <td>0.00</td>\n",
              "      <td>0.0000</td>\n",
              "      <td>0.0000</td>\n",
              "      <td>1.0</td>\n",
              "      <td>8.0000</td>\n",
              "    </tr>\n",
              "    <tr>\n",
              "      <th>Parch</th>\n",
              "      <td>891.0</td>\n",
              "      <td>0.381594</td>\n",
              "      <td>0.806057</td>\n",
              "      <td>0.00</td>\n",
              "      <td>0.0000</td>\n",
              "      <td>0.0000</td>\n",
              "      <td>0.0</td>\n",
              "      <td>6.0000</td>\n",
              "    </tr>\n",
              "    <tr>\n",
              "      <th>Fare</th>\n",
              "      <td>891.0</td>\n",
              "      <td>32.204208</td>\n",
              "      <td>49.693429</td>\n",
              "      <td>0.00</td>\n",
              "      <td>7.9104</td>\n",
              "      <td>14.4542</td>\n",
              "      <td>31.0</td>\n",
              "      <td>512.3292</td>\n",
              "    </tr>\n",
              "  </tbody>\n",
              "</table>\n",
              "</div>"
            ],
            "text/plain": [
              "             count        mean         std  ...       50%    75%       max\n",
              "PassengerId  891.0  446.000000  257.353842  ...  446.0000  668.5  891.0000\n",
              "Survived     891.0    0.383838    0.486592  ...    0.0000    1.0    1.0000\n",
              "Pclass       891.0    2.308642    0.836071  ...    3.0000    3.0    3.0000\n",
              "Age          714.0   29.699118   14.526497  ...   28.0000   38.0   80.0000\n",
              "SibSp        891.0    0.523008    1.102743  ...    0.0000    1.0    8.0000\n",
              "Parch        891.0    0.381594    0.806057  ...    0.0000    0.0    6.0000\n",
              "Fare         891.0   32.204208   49.693429  ...   14.4542   31.0  512.3292\n",
              "\n",
              "[7 rows x 8 columns]"
            ]
          },
          "metadata": {
            "tags": []
          },
          "execution_count": 54
        }
      ]
    },
    {
      "cell_type": "markdown",
      "metadata": {
        "id": "xjzNt9M_2m8C",
        "colab_type": "text"
      },
      "source": [
        "## Visualize Survived vs Not Survived:"
      ]
    },
    {
      "cell_type": "code",
      "metadata": {
        "id": "BIzuSz1W2m8C",
        "colab_type": "code",
        "colab": {
          "base_uri": "https://localhost:8080/",
          "height": 283
        },
        "outputId": "ee78844f-ac85-474d-baaf-c87ca82f929f"
      },
      "source": [
        "train['Survived'].plot(kind='box')\n",
        "#train['Sur_or_not'].plot(kind='box')--->Why it is giving error?\n"
      ],
      "execution_count": null,
      "outputs": [
        {
          "output_type": "execute_result",
          "data": {
            "text/plain": [
              "<matplotlib.axes._subplots.AxesSubplot at 0x7f305c196320>"
            ]
          },
          "metadata": {
            "tags": []
          },
          "execution_count": 55
        },
        {
          "output_type": "display_data",
          "data": {
            "image/png": "[encoded data removed]",
            "text/plain": [
              "<Figure size 432x288 with 1 Axes>"
            ]
          },
          "metadata": {
            "tags": [],
            "needs_background": "light"
          }
        }
      ]
    },
    {
      "cell_type": "code",
      "metadata": {
        "id": "myEsiyyPqA3W",
        "colab_type": "code",
        "colab": {
          "base_uri": "https://localhost:8080/",
          "height": 280
        },
        "outputId": "f872839b-3ffe-4459-e7cb-d13faa0ea0e9"
      },
      "source": [
        "sns.countplot(x='Sur_or_not', data=train);"
      ],
      "execution_count": null,
      "outputs": [
        {
          "output_type": "display_data",
          "data": {
            "image/png": "[encoded data removed]",
            "text/plain": [
              "<Figure size 432x288 with 1 Axes>"
            ]
          },
          "metadata": {
            "tags": [],
            "needs_background": "light"
          }
        }
      ]
    },
    {
      "cell_type": "markdown",
      "metadata": {
        "id": "xg7C40PCWnKk",
        "colab_type": "text"
      },
      "source": [
        "#From the above graph it is clear that not many persons survived. Out of 891 persons in training dataset only 342 are survived.i.e only 38.8% survived in 891."
      ]
    },
    {
      "cell_type": "code",
      "metadata": {
        "id": "_md6EkNIXICx",
        "colab_type": "code",
        "colab": {
          "base_uri": "https://localhost:8080/",
          "height": 121
        },
        "outputId": "a6b75ed4-8c6e-436d-d28e-4c4a85560342"
      },
      "source": [
        "train.groupby(['Sex', 'Survived'])['Survived'].count()"
      ],
      "execution_count": null,
      "outputs": [
        {
          "output_type": "execute_result",
          "data": {
            "text/plain": [
              "Sex     Survived\n",
              "female  0            81\n",
              "        1           233\n",
              "male    0           468\n",
              "        1           109\n",
              "Name: Survived, dtype: int64"
            ]
          },
          "metadata": {
            "tags": []
          },
          "execution_count": 57
        }
      ]
    },
    {
      "cell_type": "code",
      "metadata": {
        "id": "2AB2ubZMYIt-",
        "colab_type": "code",
        "colab": {
          "base_uri": "https://localhost:8080/",
          "height": 121
        },
        "outputId": "5e8586fd-bfa6-408d-c92f-140fe8016a1a"
      },
      "source": [
        "train.groupby(['Sex', 'Sur_or_not'])['Sur_or_not'].count()"
      ],
      "execution_count": null,
      "outputs": [
        {
          "output_type": "execute_result",
          "data": {
            "text/plain": [
              "Sex     Sur_or_not  \n",
              "female  Not Survived     81\n",
              "        Survived        233\n",
              "male    Not Survived    468\n",
              "        Survived        109\n",
              "Name: Sur_or_not, dtype: int64"
            ]
          },
          "metadata": {
            "tags": []
          },
          "execution_count": 58
        }
      ]
    },
    {
      "cell_type": "code",
      "metadata": {
        "id": "2DLrVYihsuZ4",
        "colab_type": "code",
        "colab": {
          "base_uri": "https://localhost:8080/",
          "height": 424
        },
        "outputId": "dc8a356c-60cd-4b35-c5ae-20ccf6e02150"
      },
      "source": [
        "sns.factorplot(x='Sur_or_not', col='Sex', kind='count', data=train);"
      ],
      "execution_count": null,
      "outputs": [
        {
          "output_type": "stream",
          "text": [
            "/usr/local/lib/python3.6/dist-packages/seaborn/categorical.py:3666: UserWarning: The `factorplot` function has been renamed to `catplot`. The original name will be removed in a future release. Please update your code. Note that the default `kind` in `factorplot` (`'point'`) has changed `'strip'` in `catplot`.\n",
            "  warnings.warn(msg)\n"
          ],
          "name": "stderr"
        },
        {
          "output_type": "display_data",
          "data": {
            "image/png": "[encoded data removed]",
            "text/plain": [
              "<Figure size 720x360 with 2 Axes>"
            ]
          },
          "metadata": {
            "tags": [],
            "needs_background": "light"
          }
        }
      ]
    },
    {
      "cell_type": "markdown",
      "metadata": {
        "id": "WITYFXCpXiNb",
        "colab_type": "text"
      },
      "source": [
        "#From the above graph we can say female survived more than male."
      ]
    },
    {
      "cell_type": "code",
      "metadata": {
        "id": "HbammBYtvg0b",
        "colab_type": "code",
        "colab": {
          "base_uri": "https://localhost:8080/",
          "height": 283
        },
        "outputId": "1c90e714-902e-48db-8052-a15da7617f2b"
      },
      "source": [
        "  train['Survived'].plot(kind = 'hist')\n",
        "#What is the difference between countplot and plot?"
      ],
      "execution_count": null,
      "outputs": [
        {
          "output_type": "execute_result",
          "data": {
            "text/plain": [
              "<matplotlib.axes._subplots.AxesSubplot at 0x7f305f3ac908>"
            ]
          },
          "metadata": {
            "tags": []
          },
          "execution_count": 60
        },
        {
          "output_type": "display_data",
          "data": {
            "image/png": "[encoded data removed]",
            "text/plain": [
              "<Figure size 432x288 with 1 Axes>"
            ]
          },
          "metadata": {
            "tags": [],
            "needs_background": "light"
          }
        }
      ]
    },
    {
      "cell_type": "markdown",
      "metadata": {
        "id": "q3aRlX8z2m8G",
        "colab_type": "text"
      },
      "source": [
        "## Visual EDA for single Categorical Column: \"Embarked\""
      ]
    },
    {
      "cell_type": "code",
      "metadata": {
        "id": "RFqVEdQRstBl",
        "colab_type": "code",
        "colab": {
          "base_uri": "https://localhost:8080/",
          "height": 279
        },
        "outputId": "d61c1cd0-8ad9-44cc-acc4-7460e9039fe4"
      },
      "source": [
        "sns.countplot(x='Embarked', data=train);"
      ],
      "execution_count": null,
      "outputs": [
        {
          "output_type": "display_data",
          "data": {
            "image/png": "[encoded data removed]",
            "text/plain": [
              "<Figure size 432x288 with 1 Axes>"
            ]
          },
          "metadata": {
            "tags": [],
            "needs_background": "light"
          }
        }
      ]
    },
    {
      "cell_type": "markdown",
      "metadata": {
        "id": "NrzjtY_waOvJ",
        "colab_type": "text"
      },
      "source": [
        "#From the above graph most of the people embarked from \"Southampton\" Than Cherbourg & Queenstown"
      ]
    },
    {
      "cell_type": "markdown",
      "metadata": {
        "id": "0J4o3VGE2m8M",
        "colab_type": "text"
      },
      "source": [
        "## Visual EDA for single Continuous Column: \"Fare\" using Distribution Plot"
      ]
    },
    {
      "cell_type": "code",
      "metadata": {
        "id": "vJbSqovrMUF-",
        "colab_type": "code",
        "colab": {
          "base_uri": "https://localhost:8080/",
          "height": 283
        },
        "outputId": "d8eb6d1d-88ad-4083-b6d7-50f4486dc8df"
      },
      "source": [
        "#sns.countplot(x='Fare', data=train);\n",
        "#sns.countplot('Fare',data=train);\n",
        "#plt.show()\n",
        "train['Fare'].plot(kind = 'hist',bins=[0, 100, 200, 300, 400, 500, 600,700,800,900])"
      ],
      "execution_count": null,
      "outputs": [
        {
          "output_type": "execute_result",
          "data": {
            "text/plain": [
              "<matplotlib.axes._subplots.AxesSubplot at 0x7f305c54eba8>"
            ]
          },
          "metadata": {
            "tags": []
          },
          "execution_count": 66
        },
        {
          "output_type": "display_data",
          "data": {
            "image/png": "[encoded data removed]",
            "text/plain": [
              "<Figure size 432x288 with 1 Axes>"
            ]
          },
          "metadata": {
            "tags": [],
            "needs_background": "light"
          }
        }
      ]
    },
    {
      "cell_type": "code",
      "metadata": {
        "id": "_2_Zwngrw5Na",
        "colab_type": "code",
        "colab": {}
      },
      "source": [
        "#sns.distplot(train['Fare']);\n",
        "#sns.countplot(x='Fare', data=train);"
      ],
      "execution_count": null,
      "outputs": []
    },
    {
      "cell_type": "markdown",
      "metadata": {
        "id": "H-5wrJ8jbZCC",
        "colab_type": "text"
      },
      "source": [
        "#From the above distribution plot we can say most of the people who baught the ticket less than 100 fare."
      ]
    },
    {
      "cell_type": "code",
      "metadata": {
        "id": "HOp3F_NaxI-l",
        "colab_type": "code",
        "colab": {}
      },
      "source": [
        ""
      ],
      "execution_count": null,
      "outputs": []
    },
    {
      "cell_type": "markdown",
      "metadata": {
        "id": "4gyvjXQu2m8Q",
        "colab_type": "text"
      },
      "source": [
        "## Visual EDA for single Continuous Column: \"Fare\" using KDE(Kernel Density Estimation) Plot"
      ]
    },
    {
      "cell_type": "code",
      "metadata": {
        "id": "mf3nhcSs2m8Q",
        "colab_type": "code",
        "colab": {
          "base_uri": "https://localhost:8080/",
          "height": 281
        },
        "outputId": "3985e7fd-21c6-4b2f-f7e9-dfee2c831f40"
      },
      "source": [
        "sns.distplot(train.Fare, kde=False);"
      ],
      "execution_count": null,
      "outputs": [
        {
          "output_type": "display_data",
          "data": {
            "image/png": "[encoded data removed]",
            "text/plain": [
              "<Figure size 432x288 with 1 Axes>"
            ]
          },
          "metadata": {
            "tags": [],
            "needs_background": "light"
          }
        }
      ]
    },
    {
      "cell_type": "code",
      "metadata": {
        "id": "s7ixYimRwxWa",
        "colab_type": "code",
        "colab": {}
      },
      "source": [
        ""
      ],
      "execution_count": null,
      "outputs": []
    },
    {
      "cell_type": "markdown",
      "metadata": {
        "id": "3lZIYm6E2m8T",
        "colab_type": "text"
      },
      "source": [
        "# Bivariate EDA:"
      ]
    },
    {
      "cell_type": "markdown",
      "metadata": {
        "id": "b-TY48P92m8U",
        "colab_type": "text"
      },
      "source": [
        "##  What is the count of Males and Females Survived and Not Survived in each Class?"
      ]
    },
    {
      "cell_type": "code",
      "metadata": {
        "id": "YHbhzZKj2m8U",
        "colab_type": "code",
        "colab": {
          "base_uri": "https://localhost:8080/",
          "height": 260
        },
        "outputId": "d4289919-2e9f-49c2-ef59-9ab67c72003d"
      },
      "source": [
        "#train.groupby(['Sur_or_not','Sex','Pclass']).size()\n",
        "train.groupby(['Pclass','Sex','Sur_or_not']).size()\n",
        "#train.head()"
      ],
      "execution_count": null,
      "outputs": [
        {
          "output_type": "execute_result",
          "data": {
            "text/plain": [
              "Pclass  Sex     Sur_or_not  \n",
              "1       female  Not Survived      3\n",
              "                Survived         91\n",
              "        male    Not Survived     77\n",
              "                Survived         45\n",
              "2       female  Not Survived      6\n",
              "                Survived         70\n",
              "        male    Not Survived     91\n",
              "                Survived         17\n",
              "3       female  Not Survived     72\n",
              "                Survived         72\n",
              "        male    Not Survived    300\n",
              "                Survived         47\n",
              "dtype: int64"
            ]
          },
          "metadata": {
            "tags": []
          },
          "execution_count": 67
        }
      ]
    },
    {
      "cell_type": "markdown",
      "metadata": {
        "id": "szr_X4mx2m8X",
        "colab_type": "text"
      },
      "source": [
        "## Visualize Survived and Not Survived with respect to the 'Embarked' Column:"
      ]
    },
    {
      "cell_type": "code",
      "metadata": {
        "id": "2GDAfEx12m8Y",
        "colab_type": "code",
        "colab": {
          "base_uri": "https://localhost:8080/",
          "height": 349
        },
        "outputId": "3d14d71c-9fb9-4ec8-ce34-738bc5167757"
      },
      "source": [
        "sns.factorplot(x='Sur_or_not', col='Embarked', kind='count', data=train);\n",
        "#how do we know we have to plot factorplot here?"
      ],
      "execution_count": null,
      "outputs": [
        {
          "output_type": "stream",
          "text": [
            "/usr/local/lib/python3.6/dist-packages/seaborn/categorical.py:3666: UserWarning: The `factorplot` function has been renamed to `catplot`. The original name will be removed in a future release. Please update your code. Note that the default `kind` in `factorplot` (`'point'`) has changed `'strip'` in `catplot`.\n",
            "  warnings.warn(msg)\n"
          ],
          "name": "stderr"
        },
        {
          "output_type": "display_data",
          "data": {
            "image/png": "[encoded data removed]",
            "text/plain": [
              "<Figure size 1080x360 with 3 Axes>"
            ]
          },
          "metadata": {
            "tags": [],
            "needs_background": "light"
          }
        }
      ]
    },
    {
      "cell_type": "markdown",
      "metadata": {
        "id": "PNbo0rMqeRKV",
        "colab_type": "text"
      },
      "source": [
        "From the above graph Most of the people survived from Southampton but if we see the percentage of survived then it is ore in \n",
        "Cherbourg compare to other 2('Southampton & Queenstown')"
      ]
    },
    {
      "cell_type": "markdown",
      "metadata": {
        "id": "9iIzTZO12m8d",
        "colab_type": "text"
      },
      "source": [
        "## Plot a Desnity Graph based on Fare and Survival Rate:"
      ]
    },
    {
      "cell_type": "code",
      "metadata": {
        "id": "a8h_GGHT2m8e",
        "colab_type": "code",
        "colab": {
          "base_uri": "https://localhost:8080/",
          "height": 265
        },
        "outputId": "1ad9d554-d40c-4269-b012-ca719ff0eb44"
      },
      "source": [
        "p1=sns.kdeplot(train['Fare'], shade=True, color=\"r\")\n",
        "p1=sns.kdeplot(train['Survived'], shade=True, color=\"b\")\n",
        "\n",
        "#Density plot and Distribution plots are same?\n",
        "#scattered plot....\n",
        "fare vs survived-0\n",
        "fare vs survived-1\n"
      ],
      "execution_count": null,
      "outputs": [
        {
          "output_type": "display_data",
          "data": {
            "image/png": "[encoded data removed]",
            "text/plain": [
              "<Figure size 432x288 with 1 Axes>"
            ]
          },
          "metadata": {
            "tags": [],
            "needs_background": "light"
          }
        }
      ]
    },
    {
      "cell_type": "markdown",
      "metadata": {
        "id": "DT-2XvBQpqDO",
        "colab_type": "text"
      },
      "source": [
        "#from the above we cant describe the final outcome hence showing scatter plot below"
      ]
    },
    {
      "cell_type": "code",
      "metadata": {
        "id": "NWz-MgtlJXKq",
        "colab_type": "code",
        "colab": {
          "base_uri": "https://localhost:8080/",
          "height": 297
        },
        "outputId": "2a5776ed-a60d-4275-d195-a8b36a5782f8"
      },
      "source": [
        "# Draw the scatter plot\n",
        "\n",
        "\n",
        "#plt.figure(figsize= (10,10))\n",
        "#sns.scatterplot(data=train, x=\"Fare\", y=\"Survived\", alpha=0.3)\n",
        "#plt.show()\n",
        "#g.set(xscale=\"log\");\n",
        "#px.scatter(da=train, x='fare',y='survived')\n",
        "#train[train['Fare'] < 100].plot.hexbin(y='Fare', x='Survived', gridsize=15)\n",
        "sns.boxplot(x=\"Survived\", y=\"Fare\", data=train)"
      ],
      "execution_count": null,
      "outputs": [
        {
          "output_type": "execute_result",
          "data": {
            "text/plain": [
              "<matplotlib.axes._subplots.AxesSubplot at 0x7f303a9ce550>"
            ]
          },
          "metadata": {
            "tags": []
          },
          "execution_count": 126
        },
        {
          "output_type": "display_data",
          "data": {
            "image/png": "[encoded data removed]",
            "text/plain": [
              "<Figure size 432x288 with 1 Axes>"
            ]
          },
          "metadata": {
            "tags": [],
            "needs_background": "light"
          }
        }
      ]
    },
    {
      "cell_type": "code",
      "metadata": {
        "id": "0HtV4pc85_PJ",
        "colab_type": "code",
        "colab": {}
      },
      "source": [
        "#sns.distplot(train['Fare'],train['Survival_Rate'] kde=False);\n",
        "#sns.distplot(train.Fare, kde=False);\n",
        "#train['Sur_or_not'] = train['Survived'].apply(lambda x: 'Survived' if x == 1 else 'Not Survived')\n",
        "#train.groupby(['Sur_or_not']).size()\n",
        "#p1=sns.kdeplot(train['Fare'], shade=True, color=\"r\")\n",
        "#p1=sns.kdeplot(train['Survival_Rate'], shade=True, color=\"b\")\n"
      ],
      "execution_count": null,
      "outputs": []
    },
    {
      "cell_type": "markdown",
      "metadata": {
        "id": "6Pu5nnK52m8i",
        "colab_type": "text"
      },
      "source": [
        "## Plot a Distplot based on Fare and Survival Rate:"
      ]
    },
    {
      "cell_type": "code",
      "metadata": {
        "id": "s3Qe2Ovx2m8i",
        "colab_type": "code",
        "colab": {
          "base_uri": "https://localhost:8080/",
          "height": 279
        },
        "outputId": "1081f37c-4774-49b9-e47e-f542f33554ca"
      },
      "source": [
        "#Write your code here\n",
        "sns.distplot(train.Fare, kde=False);\n",
        "sns.distplot(train.Survived, kde=False);-----it should not be\n"
      ],
      "execution_count": null,
      "outputs": [
        {
          "output_type": "display_data",
          "data": {
            "image/png": "[encoded data removed]",
            "text/plain": [
              "<Figure size 432x288 with 1 Axes>"
            ]
          },
          "metadata": {
            "tags": [],
            "needs_background": "light"
          }
        }
      ]
    },
    {
      "cell_type": "code",
      "metadata": {
        "id": "GL9vSEpO2m8l",
        "colab_type": "code",
        "colab": {}
      },
      "source": [
        "#Write your code here"
      ],
      "execution_count": null,
      "outputs": []
    },
    {
      "cell_type": "markdown",
      "metadata": {
        "id": "k2XyZb8b2m8o",
        "colab_type": "text"
      },
      "source": [
        "## How are \"Age\" and \"Fare\" Columns related? Plot a Graph for the same:"
      ]
    },
    {
      "cell_type": "code",
      "metadata": {
        "id": "nmnqyffV2m8p",
        "colab_type": "code",
        "colab": {
          "base_uri": "https://localhost:8080/",
          "height": 280
        },
        "outputId": "1dbf4059-23c1-4f38-825c-689fe84ee6d6"
      },
      "source": [
        "#sns.factorplot(x='Age', col='Fare', data=train);\n",
        "#sns.factorplot(x='Sur_or_not', col='Sex', kind='count', data=train);\n",
        "#sns.countplot('Age', hue='Fare', data=train)\n",
        "#plt.title('Pclass: Sruvived vs Dead')\n",
        "#plt.show()\n",
        "\n",
        "sns.distplot(train.Fare, kde=True);\n",
        "sns.distplot(train.Age, kde=True);"
      ],
      "execution_count": null,
      "outputs": [
        {
          "output_type": "display_data",
          "data": {
            "image/png": "[encoded data removed]",
            "text/plain": [
              "<Figure size 432x288 with 1 Axes>"
            ]
          },
          "metadata": {
            "tags": [],
            "needs_background": "light"
          }
        }
      ]
    },
    {
      "cell_type": "code",
      "metadata": {
        "id": "kHVim5pY68BC",
        "colab_type": "code",
        "colab": {
          "base_uri": "https://localhost:8080/",
          "height": 297
        },
        "outputId": "26b67a0d-e18f-4885-b2f0-30d0e8245950"
      },
      "source": [
        "train[train['Fare'] < 512].sample(100).plot.scatter(x='Age', y='Fare')"
      ],
      "execution_count": null,
      "outputs": [
        {
          "output_type": "execute_result",
          "data": {
            "text/plain": [
              "<matplotlib.axes._subplots.AxesSubplot at 0x7f303ac4d0f0>"
            ]
          },
          "metadata": {
            "tags": []
          },
          "execution_count": 117
        },
        {
          "output_type": "display_data",
          "data": {
            "image/png": "[encoded data removed]",
            "text/plain": [
              "<Figure size 432x288 with 1 Axes>"
            ]
          },
          "metadata": {
            "tags": [],
            "needs_background": "light"
          }
        }
      ]
    },
    {
      "cell_type": "markdown",
      "metadata": {
        "id": "1bMAzNU28W9R",
        "colab_type": "text"
      },
      "source": [
        "#Majority of the people age between 18 to 35 have tickets fare less than 50."
      ]
    },
    {
      "cell_type": "markdown",
      "metadata": {
        "id": "AY3fmWoB2m8t",
        "colab_type": "text"
      },
      "source": [
        "# Multivariate EDA:"
      ]
    },
    {
      "cell_type": "markdown",
      "metadata": {
        "id": "PleCeQX32m8u",
        "colab_type": "text"
      },
      "source": [
        "## Does Age have an impact on Survival Rate for each Sex and Class group?"
      ]
    },
    {
      "cell_type": "code",
      "metadata": {
        "id": "J2U1W7Lo2m8u",
        "colab_type": "code",
        "colab": {
          "base_uri": "https://localhost:8080/",
          "height": 467
        },
        "outputId": "26462627-c4fd-458d-a4f8-6fe4adf25de2"
      },
      "source": [
        "#sns.jointplot(x=\"Age\", y=\"Survived\", data=train);\n",
        "#ax = data[[\"Age\",\"Sex\",\"Survived\",\"PClass\"]].plot()\n",
        "#ax.legend(loc='center left', bbox_to_anchor=(1, 0.5));\n",
        "\n",
        "# Pair-wise Scatter Plots\n",
        "cols = [\"Age\",\"Sex\",\"Survived\",\"Pclass\"]\n",
        "pp = sns.pairplot(train[cols], size=1.8, aspect=1.8,\n",
        "                  plot_kws=dict(edgecolor=\"k\", linewidth=0.5),\n",
        "                  diag_kind=\"kde\", diag_kws=dict(shade=True))\n",
        "\n",
        "fig = pp.fig \n",
        "fig.subplots_adjust(top=0.93, wspace=0.3)\n",
        "t = fig.suptitle('Titanic multivariate analysis', fontsize=14)\n"
      ],
      "execution_count": null,
      "outputs": [
        {
          "output_type": "stream",
          "text": [
            "/usr/local/lib/python3.6/dist-packages/seaborn/axisgrid.py:2071: UserWarning: The `size` parameter has been renamed to `height`; please update your code.\n",
            "  warnings.warn(msg, UserWarning)\n"
          ],
          "name": "stderr"
        },
        {
          "output_type": "display_data",
          "data": {
            "image/png": "[encoded data removed]",
            "text/plain": [
              "<Figure size 699.84x388.8 with 12 Axes>"
            ]
          },
          "metadata": {
            "tags": [],
            "needs_background": "light"
          }
        }
      ]
    },
    {
      "cell_type": "code",
      "metadata": {
        "id": "tzdxGuh6A1Ul",
        "colab_type": "code",
        "colab": {
          "base_uri": "https://localhost:8080/",
          "height": 1000
        },
        "outputId": "9dfe0a4a-98d9-418c-99c5-885cfa4dd757"
      },
      "source": [
        "sns.factorplot(x='Age', col='Survived', kind='count', data=train);\n",
        "sns.factorplot(x='Age', col='Sex', kind='count', data=train);\n",
        "sns.factorplot(x='Age', col='Pclass', kind='count', data=train);\n",
        "\n",
        "#Search for HIstogram\n"
      ],
      "execution_count": null,
      "outputs": [
        {
          "output_type": "stream",
          "text": [
            "/usr/local/lib/python3.6/dist-packages/seaborn/categorical.py:3666: UserWarning: The `factorplot` function has been renamed to `catplot`. The original name will be removed in a future release. Please update your code. Note that the default `kind` in `factorplot` (`'point'`) has changed `'strip'` in `catplot`.\n",
            "  warnings.warn(msg)\n"
          ],
          "name": "stderr"
        },
        {
          "output_type": "display_data",
          "data": {
            "image/png": "[encoded data removed]",
            "text/plain": [
              "<Figure size 720x360 with 2 Axes>"
            ]
          },
          "metadata": {
            "tags": [],
            "needs_background": "light"
          }
        },
        {
          "output_type": "display_data",
          "data": {
            "image/png": "[encoded data removed]",
            "text/plain": [
              "<Figure size 720x360 with 2 Axes>"
            ]
          },
          "metadata": {
            "tags": [],
            "needs_background": "light"
          }
        },
        {
          "output_type": "display_data",
          "data": {
            "image/png": "[encoded data removed]",
            "text/plain": [
              "<Figure size 1080x360 with 3 Axes>"
            ]
          },
          "metadata": {
            "tags": [],
            "needs_background": "light"
          }
        }
      ]
    },
    {
      "cell_type": "code",
      "metadata": {
        "id": "D0vd2yq62m8x",
        "colab_type": "code",
        "colab": {}
      },
      "source": [
        "#Write your code here"
      ],
      "execution_count": null,
      "outputs": []
    },
    {
      "cell_type": "code",
      "metadata": {
        "id": "-o3XgIdn2m80",
        "colab_type": "code",
        "colab": {}
      },
      "source": [
        "#Write your code here"
      ],
      "execution_count": null,
      "outputs": []
    },
    {
      "cell_type": "markdown",
      "metadata": {
        "id": "AHZpFh2r2m83",
        "colab_type": "text"
      },
      "source": [
        "## Plot a HEATMAP showing the correlations between different features:"
      ]
    },
    {
      "cell_type": "code",
      "metadata": {
        "id": "s2K3GOgS2m84",
        "colab_type": "code",
        "colab": {
          "base_uri": "https://localhost:8080/",
          "height": 320
        },
        "outputId": "070c7150-6b23-4231-fd4e-648a29cd42fc"
      },
      "source": [
        "#Write your code here\n",
        "sns.heatmap(train.corr(),annot=True);"
      ],
      "execution_count": null,
      "outputs": [
        {
          "output_type": "display_data",
          "data": {
            "image/png": "[encoded data removed]",
            "text/plain": [
              "<Figure size 432x288 with 2 Axes>"
            ]
          },
          "metadata": {
            "tags": [],
            "needs_background": "light"
          }
        }
      ]
    },
    {
      "cell_type": "code",
      "metadata": {
        "id": "BaS2viImEDTK",
        "colab_type": "code",
        "colab": {
          "base_uri": "https://localhost:8080/",
          "height": 364
        },
        "outputId": "ab4508ee-e3bb-4f4f-f654-78fe7a43fd8e"
      },
      "source": [
        "train.info()"
      ],
      "execution_count": null,
      "outputs": [
        {
          "output_type": "stream",
          "text": [
            "<class 'pandas.core.frame.DataFrame'>\n",
            "RangeIndex: 891 entries, 0 to 890\n",
            "Data columns (total 13 columns):\n",
            " #   Column       Non-Null Count  Dtype  \n",
            "---  ------       --------------  -----  \n",
            " 0   PassengerId  891 non-null    int64  \n",
            " 1   Survived     891 non-null    int64  \n",
            " 2   Pclass       891 non-null    int64  \n",
            " 3   Name         891 non-null    object \n",
            " 4   Sex          891 non-null    object \n",
            " 5   Age          714 non-null    float64\n",
            " 6   SibSp        891 non-null    int64  \n",
            " 7   Parch        891 non-null    int64  \n",
            " 8   Ticket       891 non-null    object \n",
            " 9   Fare         891 non-null    float64\n",
            " 10  Cabin        204 non-null    object \n",
            " 11  Embarked     889 non-null    object \n",
            " 12  Sur_or_not   891 non-null    object \n",
            "dtypes: float64(2), int64(5), object(6)\n",
            "memory usage: 90.6+ KB\n"
          ],
          "name": "stdout"
        }
      ]
    },
    {
      "cell_type": "markdown",
      "metadata": {
        "id": "vmk42EAl2m86",
        "colab_type": "text"
      },
      "source": [
        "# Conclusion"
      ]
    },
    {
      "cell_type": "code",
      "metadata": {
        "id": "GUWBD5BP2m86",
        "colab_type": "code",
        "colab": {}
      },
      "source": [
        "#Conclude your findings about the dataset\n",
        "#\n",
        "Positive Corelation:\n",
        "1)From the above heat map there is strong co relation between Survived and Fare.\n",
        "2)Parch vs sibsp corelation is there.\n",
        "\n",
        "Negative Corelation:\n",
        "Heighest negative corelation between Fare vs Pclass\n",
        "and negative corelation between survived vs Pclass.\n",
        "and age vs pclass.\n"
      ],
      "execution_count": null,
      "outputs": []
    }
  ]
}